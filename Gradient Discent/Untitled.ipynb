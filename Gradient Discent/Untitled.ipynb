{
 "cells": [
  {
   "cell_type": "code",
   "execution_count": 6,
   "id": "6cce1ffe-84fd-40d9-ba16-ac109235d4fe",
   "metadata": {},
   "outputs": [],
   "source": [
    "import numpy as np\n",
    "import matplotlib.pyplot as plt"
   ]
  },
  {
   "cell_type": "code",
   "execution_count": 11,
   "id": "c64abc75-3a91-4f57-83ab-fabfec0b1729",
   "metadata": {},
   "outputs": [],
   "source": [
    "%matplotlib inline\n",
    "def gradient_descent(x,y):\n",
    "    m_curr = b_curr = 0\n",
    "    rate = 0.08\n",
    "    n = len(x)\n",
    "    # plt.scatter(x,y,color='red',marker='+',linewidth='5')\n",
    "    for i in range(10):\n",
    "        y_predicted = m_curr * x + b_curr\n",
    "#         print (m_curr,b_curr, i)\n",
    "        cost=(1/n)*sum([val**2 for val in (y-y_predicted)])\n",
    "        # plt.plot(x,y_predicted,color='green')\n",
    "        md = -(2/n)*sum(x*(y-y_predicted))\n",
    "        yd = -(2/n)*sum(y-y_predicted)\n",
    "        m_curr = m_curr - rate * md\n",
    "        b_curr = b_curr - rate * yd\n",
    "        print(\"m{} ,b{},cost {} iteration{}\".format(m_curr,b_curr,cost,i))"
   ]
  },
  {
   "cell_type": "code",
   "execution_count": 12,
   "id": "2d8db288-3a65-4659-8dc1-bed6d738dfbe",
   "metadata": {},
   "outputs": [],
   "source": [
    "x = np.array([1,2,3,4,5])\n",
    "y = np.array([5,7,9,11,13])"
   ]
  },
  {
   "cell_type": "code",
   "execution_count": 13,
   "id": "827225b1-3847-4f03-9039-db6f6ab467da",
   "metadata": {},
   "outputs": [
    {
     "name": "stdout",
     "output_type": "stream",
     "text": [
      "m4.96 ,b1.44,cost 89.0 iteration0\n",
      "m0.4991999999999983 ,b0.26879999999999993,cost 71.10560000000002 iteration1\n",
      "m4.451584000000002 ,b1.426176000000001,cost 56.8297702400001 iteration2\n",
      "m0.892231679999997 ,b0.5012275199999995,cost 45.43965675929613 iteration3\n",
      "m4.041314713600002 ,b1.432759910400001,cost 36.35088701894832 iteration4\n",
      "m1.2008760606719973 ,b0.7036872622079998,cost 29.097483330142282 iteration5\n",
      "m3.7095643080294423 ,b1.4546767911321612,cost 23.307872849944438 iteration6\n",
      "m1.4424862661541864 ,b0.881337636696883,cost 18.685758762535738 iteration7\n",
      "m3.4406683721083144 ,b1.4879302070713722,cost 14.994867596913156 iteration8\n",
      "m1.6308855378034224 ,b1.0383405553279617,cost 12.046787238456794 iteration9\n"
     ]
    }
   ],
   "source": [
    "gradient_descent(x,y)\n"
   ]
  },
  {
   "cell_type": "code",
   "execution_count": null,
   "id": "c1a8d4d6-7189-42ff-8093-6617610bc9b1",
   "metadata": {},
   "outputs": [],
   "source": []
  }
 ],
 "metadata": {
  "kernelspec": {
   "display_name": "Python 3 (ipykernel)",
   "language": "python",
   "name": "python3"
  },
  "language_info": {
   "codemirror_mode": {
    "name": "ipython",
    "version": 3
   },
   "file_extension": ".py",
   "mimetype": "text/x-python",
   "name": "python",
   "nbconvert_exporter": "python",
   "pygments_lexer": "ipython3",
   "version": "3.13.0"
  }
 },
 "nbformat": 4,
 "nbformat_minor": 5
}

{
 "cells": [
  {
   "cell_type": "code",
   "execution_count": 2,
   "id": "9684f9de-531f-4fec-aa1f-8c48e5283e61",
   "metadata": {},
   "outputs": [],
   "source": [
    "import nltk\n",
    "# nltk.download('stopwords')\n",
    "from nltk.corpus import stopwords\n",
    "from nltk.cluster.util import cosine_distance\n",
    "import numpy as np\n",
    "import networkx as nx "
   ]
  },
  {
   "cell_type": "code",
   "execution_count": 3,
   "id": "d1458a9d-d083-4ea6-a4e8-d1c76e355dfe",
   "metadata": {},
   "outputs": [],
   "source": [
    "def read_article(file_name):\n",
    "    file = open(file_name, \"r\")\n",
    "    filedata = file.readlines()\n",
    "    article = filedata[0].split(\".\")\n",
    "    sentences = []\n",
    "    for sentence in article:\n",
    "        sentences.append(sentence.replace(\"[^a-zA-Z]\", \" \").split(\" \"))  \n",
    "    sentences.pop()  # remove last empty sentence\n",
    "    return sentences"
   ]
  },
  {
   "cell_type": "code",
   "execution_count": 4,
   "id": "5d7e38f0-8672-4bb0-a68b-e99b07fee151",
   "metadata": {},
   "outputs": [],
   "source": [
    "def sentence_similarity(sen1,sen2,stopwords=None):\n",
    "    if stopwords is None:\n",
    "        stopwords=[]\n",
    "    sen1=[w.lower() for w in sen1]\n",
    "    sen2=[w.lower() for w in sen2]\n",
    "    all_words=list(set(sen1+sen2))\n",
    "    vector1=[0]*len(all_words)\n",
    "    vector2=[0]*len(all_words)\n",
    "    for w in sen1:\n",
    "        if w in stopwords:\n",
    "            continue\n",
    "        vector1[all_words.index(w)]+=1\n",
    "    for w in sen2:\n",
    "        if w in stopwords:\n",
    "            continue\n",
    "        vector2[all_words.index(w)]+=1\n",
    "    return 1-cosine_distance(vector1,vector2)"
   ]
  },
  {
   "cell_type": "code",
   "execution_count": 5,
   "id": "72c630ae-eccb-4302-b263-4a676dc03769",
   "metadata": {},
   "outputs": [],
   "source": [
    "def gen_sim_matrix(sentences,stopwords):\n",
    "    similarity_matrix=np.zeros((len(sentences),len(sentences)))\n",
    "    for idx1 in range(len(sentences)):\n",
    "        for idx2 in range(len(sentences)):\n",
    "            if idx1==idx2:\n",
    "                continue\n",
    "            similarity_matrix[idx1][idx2]=sentence_similarity(sentences[idx1],sentences[idx2],stopwords)\n",
    "    return similarity_matrix"
   ]
  },
  {
   "cell_type": "code",
   "execution_count": 6,
   "id": "7d962c2b-07b2-4f68-b61e-e6a8a29ba5b3",
   "metadata": {},
   "outputs": [],
   "source": [
    "def generate_summary(file_name, top_n=5):\n",
    "    stop_words = set(stopwords.words('english'))\n",
    "    summarize_text = []\n",
    "# Read the article and generate sentence similarity matrix\n",
    "    sentences = read_article(file_name)\n",
    "    sentence_similarity_matrix = gen_sim_matrix(sentences, stop_words)\n",
    "\n",
    "    # Use the similarity matrix to build a graph and apply PageRank\n",
    "    sentence_similarity_graph = nx.from_numpy_array(sentence_similarity_matrix)\n",
    "    scores = nx.pagerank(sentence_similarity_graph)\n",
    "\n",
    "    # Rank the sentences based on their scores\n",
    "    ranked_sentence = sorted(((scores[i], s) for i, s in enumerate(sentences)), reverse=True)\n",
    "\n",
    "    # If there are fewer sentences than the top_n requested, adjust the limit\n",
    "    top_n = min(top_n, len(ranked_sentence))\n",
    "\n",
    "    for i in range(top_n):\n",
    "        summarize_text.append(\" \".join(ranked_sentence[i][1]))\n",
    "\n",
    "    print(\"Summary:\\n\", \". \".join(summarize_text))"
   ]
  },
  {
   "cell_type": "code",
   "execution_count": 12,
   "id": "11c97ca1-7dab-4c70-9f4d-b8ad147e879c",
   "metadata": {},
   "outputs": [
    {
     "name": "stdout",
     "output_type": "stream",
     "text": [
      "Summary:\n",
      " Once upon a time, in a cozy little house, lived a mischievous gray cat named **Tom** and a clever, tiny brown mouse named **Jerry**.  Their days were filled with endless chases, playful tricks, and clever escapes\n"
     ]
    }
   ],
   "source": [
    "  generate_summary(\"msft.txt\",3)"
   ]
  },
  {
   "cell_type": "code",
   "execution_count": null,
   "id": "06ea5f8a-2687-4c4f-943d-d5c099a3c530",
   "metadata": {},
   "outputs": [],
   "source": []
  }
 ],
 "metadata": {
  "kernelspec": {
   "display_name": "Python 3 (ipykernel)",
   "language": "python",
   "name": "python3"
  },
  "language_info": {
   "codemirror_mode": {
    "name": "ipython",
    "version": 3
   },
   "file_extension": ".py",
   "mimetype": "text/x-python",
   "name": "python",
   "nbconvert_exporter": "python",
   "pygments_lexer": "ipython3",
   "version": "3.13.0"
  }
 },
 "nbformat": 4,
 "nbformat_minor": 5
}
